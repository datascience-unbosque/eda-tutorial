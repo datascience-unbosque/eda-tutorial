{
 "cells": [
  {
   "cell_type": "markdown",
   "metadata": {},
   "source": [
    "# Tutorial de EDA\n",
    "Dataset: FIFA"
   ]
  },
  {
   "cell_type": "code",
   "execution_count": null,
   "metadata": {},
   "outputs": [],
   "source": [
    "# Importando todas las librerías requeridas para el análisis\n",
    "\n",
    "import numpy as np\n",
    "import pandas as pd\n",
    "\n",
    "import matplotlib.pyplot as plt\n",
    "%matplotlib inline"
   ]
  },
  {
   "cell_type": "code",
   "execution_count": null,
   "metadata": {},
   "outputs": [],
   "source": [
    "# Cargando el archivo commo dataframe\n",
    "df_fifa = pd.read_csv(\"./data/fifa_AE.csv\")"
   ]
  },
  {
   "cell_type": "code",
   "execution_count": null,
   "metadata": {},
   "outputs": [],
   "source": [
    "# Mostrando las dimensiones del dataframe\n",
    "df_fifa.shape"
   ]
  },
  {
   "cell_type": "code",
   "execution_count": null,
   "metadata": {},
   "outputs": [],
   "source": [
    "# Verificando los tipos de datos de las columnas\n",
    "df_fifa.dtypes"
   ]
  },
  {
   "cell_type": "code",
   "execution_count": null,
   "metadata": {},
   "outputs": [],
   "source": [
    "# Imprimiendo los primeros 10 registros\n",
    "df_fifa.head(10)"
   ]
  },
  {
   "cell_type": "markdown",
   "metadata": {},
   "source": [
    "### Transformando al tipo de dato correcto la columna *Value*"
   ]
  },
  {
   "cell_type": "code",
   "execution_count": null,
   "metadata": {},
   "outputs": [],
   "source": [
    "# La columna \"value\" no es de tipo entero\n",
    "# Verificando los diferentes caractéres que contiene esta columna\n",
    "\n",
    "set_char = set()\n",
    "\n",
    "def add_chars(x):\n",
    "    for i in x:\n",
    "        set_char.add(i)\n",
    "    return True\n",
    "\n",
    "df_fifa[\"Value\"].apply(add_chars)\n",
    "set_char"
   ]
  },
  {
   "cell_type": "code",
   "execution_count": null,
   "metadata": {},
   "outputs": [],
   "source": [
    "# Convirtiendo la columna a valor numérico\n",
    "\n",
    "def get_value(x):\n",
    "    x = x.replace('€','')\n",
    "    if 'M' in x:\n",
    "        x = x.replace('M','')\n",
    "        return float(x)*1000000\n",
    "    elif 'K' in x:\n",
    "        x = x.replace('K','')\n",
    "        return float(x)*1000\n",
    "    else:\n",
    "        return float(x)\n",
    "\n",
    "df_fifa[\"Value\"] = df_fifa[\"Value\"].apply(get_value)"
   ]
  },
  {
   "cell_type": "markdown",
   "metadata": {},
   "source": [
    "### Análisis cuantitativo sobre la columna *Value*"
   ]
  },
  {
   "cell_type": "code",
   "execution_count": null,
   "metadata": {},
   "outputs": [],
   "source": [
    "# Calculando el promedio del valor de los jugadores\n",
    "mean = np.mean(df_fifa[\"Value\"])\n",
    "mean"
   ]
  },
  {
   "cell_type": "code",
   "execution_count": null,
   "metadata": {},
   "outputs": [],
   "source": [
    "# Calculando la mediana del valor de los jugadores\n",
    "median = np.median(df_fifa[\"Value\"])\n",
    "median"
   ]
  },
  {
   "cell_type": "code",
   "execution_count": null,
   "metadata": {},
   "outputs": [],
   "source": [
    "# Calculando el valor del jugador más barato\n",
    "minimum = np.min(df_fifa[\"Value\"])\n",
    "minimum"
   ]
  },
  {
   "cell_type": "code",
   "execution_count": null,
   "metadata": {},
   "outputs": [],
   "source": [
    "# Calculando el valor del jugador más caro\n",
    "maximum = np.max(df_fifa[\"Value\"])\n",
    "maximum"
   ]
  },
  {
   "cell_type": "code",
   "execution_count": null,
   "metadata": {},
   "outputs": [],
   "source": [
    "# Pintando el histograma del valor de los jugadores\n",
    "df_fifa[\"Value\"].hist()"
   ]
  },
  {
   "cell_type": "code",
   "execution_count": null,
   "metadata": {},
   "outputs": [],
   "source": [
    "# Dado que no se logra una buena visualización, se pinta nuevamente modificando la cantidad de bins (grupos) y el rango del eje x\n",
    "df_fifa[\"Value\"].hist(bins = 100, range = [0, 20000000])"
   ]
  },
  {
   "cell_type": "code",
   "execution_count": null,
   "metadata": {},
   "outputs": [],
   "source": [
    "# Calculando la varianza del valor de los jugadores\n",
    "variance = np.var(df_fifa[\"Value\"])\n",
    "variance"
   ]
  },
  {
   "cell_type": "code",
   "execution_count": null,
   "metadata": {},
   "outputs": [],
   "source": [
    "# Dado que las unidades de la varianza son más dificiles de interpretar, se calcula la desviación estándar del valor de los jugadores\n",
    "std_deviation = np.std(df_fifa[\"Value\"])\n",
    "std_deviation"
   ]
  },
  {
   "cell_type": "code",
   "execution_count": null,
   "metadata": {},
   "outputs": [],
   "source": [
    "# Calculando los diferentes quartiles del valor de los jugadores\n",
    "q1 = np.percentile(df_fifa[\"Value\"], 25)\n",
    "print(\"El 25% de los jugadores con los salarios más bajos ganan a lo sumo {}\".format(q1))\n",
    "\n",
    "q2 = np.percentile(df_fifa[\"Value\"], 50)\n",
    "print(\"El siguiente 25% de los jugadores con los salarios más bajos ganan entre {} y {}\".format(q1, q2))\n",
    "\n",
    "q3 = np.percentile(df_fifa[\"Value\"], 75)\n",
    "print(\"El 25% de los jugadores con los salarios más altos ganan más de {}\".format(q3))"
   ]
  },
  {
   "cell_type": "code",
   "execution_count": null,
   "metadata": {},
   "outputs": [],
   "source": [
    "# ¿Quién o quiénes son los jugadores con el valor más bajo?\n",
    "df_fifa.loc[df_fifa[\"Value\"] == minimum]"
   ]
  },
  {
   "cell_type": "code",
   "execution_count": null,
   "metadata": {},
   "outputs": [],
   "source": [
    "# ¿Quién es el jugador con el valor más alto?\n",
    "df_fifa.loc[df_fifa[\"Value\"] == maximum]"
   ]
  },
  {
   "cell_type": "code",
   "execution_count": null,
   "metadata": {},
   "outputs": [],
   "source": [
    "# Utilizando la función describe para el cálculo de las principales estadísticas de interés para una variable cuantitativa\n",
    "df_fifa[\"Value\"].describe()"
   ]
  },
  {
   "cell_type": "code",
   "execution_count": null,
   "metadata": {},
   "outputs": [],
   "source": [
    "# Revisando los jugadores con valores atípicos\n",
    "df_fifa[df_fifa[\"Value\"] > (mean + std_deviation * 3)]"
   ]
  },
  {
   "cell_type": "code",
   "execution_count": null,
   "metadata": {},
   "outputs": [],
   "source": [
    "# Revisando los jugadores con un valores extremos\n",
    "df_fifa[df_fifa[\"Value\"] > (mean + std_deviation * 15)]"
   ]
  },
  {
   "cell_type": "markdown",
   "metadata": {},
   "source": [
    "### Análisis cualitativo sobre la columna *Preferred Positions*"
   ]
  },
  {
   "cell_type": "code",
   "execution_count": null,
   "metadata": {},
   "outputs": [],
   "source": [
    "# Calculando la frecuencia de las diferentes posiciones de los jugadores\n",
    "abs_frecuency = df_fifa[\"Preferred Positions\"].value_counts().to_frame()\n",
    "abs_frecuency"
   ]
  },
  {
   "cell_type": "code",
   "execution_count": null,
   "metadata": {},
   "outputs": [],
   "source": [
    "# Pintando la misma frecuencia de las posiciones\n",
    "# Sin embargo un gráfico de línea no es el tipo de gráfico correcto ya que implica una continuidad entre las posiciones las cuales son inherentemente categóricas nominales\n",
    "df_fifa[\"Preferred Positions\"].value_counts().plot()"
   ]
  },
  {
   "cell_type": "code",
   "execution_count": null,
   "metadata": {},
   "outputs": [],
   "source": [
    "# Pintando de nuevo la frecuencia de las posiciones utilizando un gráfico de barras como una mejor alternativa de visualización\n",
    "df_fifa[\"Preferred Positions\"].value_counts().plot(kind = \"bar\")"
   ]
  },
  {
   "cell_type": "code",
   "execution_count": null,
   "metadata": {},
   "outputs": [],
   "source": [
    "# Complementando la tabla de frecuencias agregando la frecuencia relativa de cada posición\n",
    "rel_frecuency = df_fifa[\"Preferred Positions\"].value_counts(normalize = True).to_frame()\n",
    "pd.concat([abs_frecuency, rel_frecuency], axis = 1)"
   ]
  },
  {
   "cell_type": "markdown",
   "metadata": {},
   "source": [
    "### Análisis bivariado sobre las columnas *Value* y *Age*"
   ]
  },
  {
   "cell_type": "code",
   "execution_count": null,
   "metadata": {},
   "outputs": [],
   "source": [
    "# Graficando la relación entre la edad y el valor del jugador\n",
    "plt.scatter(df_fifa[\"Age\"], df_fifa[\"Value\"],alpha = 0.5)\n",
    "plt.title(\"Age vs. Value\")\n",
    "plt.xlabel(\"Age\")\n",
    "plt.ylabel(\"Value\")\n",
    "plt.show()"
   ]
  },
  {
   "cell_type": "code",
   "execution_count": null,
   "metadata": {},
   "outputs": [],
   "source": [
    "# Calculando la correlación (lineal) entre las dos variables\n",
    "df_fifa[[\"Age\", \"Value\"]].corr()"
   ]
  },
  {
   "cell_type": "code",
   "execution_count": null,
   "metadata": {},
   "outputs": [],
   "source": [
    "# Calculando la correlación (monótona) entre las dos variables\n",
    "df_fifa[[\"Age\", \"Value\"]].corr(\"spearman\")"
   ]
  },
  {
   "cell_type": "markdown",
   "metadata": {},
   "source": [
    "### Análisis bivariado sobre las columnas *Value* y *Overall*"
   ]
  },
  {
   "cell_type": "code",
   "execution_count": null,
   "metadata": {},
   "outputs": [],
   "source": [
    "# Graficando la relación entre la edad y el valor del jugador\n",
    "plt.scatter(df_fifa[\"Overall\"], df_fifa[\"Value\"],alpha = 0.5)\n",
    "plt.title(\"Overall vs. Value\")\n",
    "plt.xlabel(\"Overall\")\n",
    "plt.ylabel(\"Value\")\n",
    "plt.show()"
   ]
  },
  {
   "cell_type": "code",
   "execution_count": null,
   "metadata": {},
   "outputs": [],
   "source": [
    "# Calculando la correlación (lineal) entre las dos variables\n",
    "df_fifa[[\"Overall\", \"Value\"]].corr()"
   ]
  },
  {
   "cell_type": "code",
   "execution_count": null,
   "metadata": {},
   "outputs": [],
   "source": [
    "# Calculando la correlación (monótona) entre las dos variables\n",
    "df_fifa[[\"Overall\", \"Value\"]].corr(\"spearman\")"
   ]
  },
  {
   "cell_type": "markdown",
   "metadata": {},
   "source": [
    "### Análisis multivariado, comparación entre categorías"
   ]
  },
  {
   "cell_type": "code",
   "execution_count": null,
   "metadata": {},
   "outputs": [],
   "source": [
    "# Filtrando los jugadores del Real Madrid\n",
    "df_real_madrid = df_fifa.loc[df_fifa[\"Club\"] == \"Real Madrid CF\"]\n",
    "df_real_madrid.head()"
   ]
  },
  {
   "cell_type": "code",
   "execution_count": null,
   "metadata": {},
   "outputs": [],
   "source": [
    "# Filtrando los jugadores de Santa Fe\n",
    "df_santa_fe = df_fifa.loc[df_fifa[\"Club\"] == \"Independiente Santa Fe\"]\n",
    "df_santa_fe.head()"
   ]
  },
  {
   "cell_type": "code",
   "execution_count": null,
   "metadata": {},
   "outputs": [],
   "source": [
    "# Filtrando los jugadores de Millonarios\n",
    "df_millonarios = df_fifa.loc[df_fifa[\"Club\"] == \"CD Los Millionarios Bogota\"]\n",
    "df_millonarios.head()"
   ]
  },
  {
   "cell_type": "code",
   "execution_count": null,
   "metadata": {},
   "outputs": [],
   "source": [
    "# Comparando las edades entre diferentes clubes\n",
    "pd.concat([\n",
    "    df_real_madrid[\"Age\"].describe().to_frame().rename(columns = {\"Age\": \"Real Madrid\"}),\n",
    "    df_santa_fe[\"Age\"].describe().to_frame().rename(columns = {\"Age\": \"Santa Fe\"}),\n",
    "    df_millonarios[\"Age\"].describe().to_frame().rename(columns = {\"Age\": \"Millonarios\"})\n",
    "], axis = 1)"
   ]
  },
  {
   "cell_type": "code",
   "execution_count": null,
   "metadata": {},
   "outputs": [],
   "source": [
    "# Comparando el overall entre diferentes clubes\n",
    "pd.concat([\n",
    "    df_real_madrid[\"Overall\"].describe().to_frame().rename(columns = {\"Overall\": \"Real Madrid\"}),\n",
    "    df_santa_fe[\"Overall\"].describe().to_frame().rename(columns = {\"Overall\": \"Santa Fe\"}),\n",
    "    df_millonarios[\"Overall\"].describe().to_frame().rename(columns = {\"Overall\": \"Millonarios\"})\n",
    "], axis = 1)"
   ]
  },
  {
   "cell_type": "code",
   "execution_count": null,
   "metadata": {},
   "outputs": [],
   "source": [
    "# Comparando los valores de jugadores entre diferentes clubes\n",
    "pd.concat([\n",
    "    df_real_madrid[\"Value\"].describe().to_frame().rename(columns = {\"Value\": \"Real Madrid\"}),\n",
    "    df_santa_fe[\"Value\"].describe().to_frame().rename(columns = {\"Value\": \"Santa Fe\"}),\n",
    "    df_millonarios[\"Value\"].describe().to_frame().rename(columns = {\"Value\": \"Millonarios\"})\n",
    "], axis = 1)"
   ]
  },
  {
   "cell_type": "code",
   "execution_count": null,
   "metadata": {},
   "outputs": [],
   "source": [
    "# Graficando la distribución de valores de jugadores de los clubes colombianos\n",
    "df_box = pd.DataFrame({\"Millonarios\": df_millonarios[\"Value\"], \"Santa Fe\": df_santa_fe[\"Value\"]})\n",
    "df_box.plot.box(title = \"Distribución de los valores de\\nlos jugadores entre grupos\")"
   ]
  },
  {
   "cell_type": "code",
   "execution_count": null,
   "metadata": {},
   "outputs": [],
   "source": [
    "# Graficando la distribución de valores de jugadores de los clubes colombianos en comparación con el Real Madrid\n",
    "df_box = pd.DataFrame({\"Millonarios\": df_millonarios[\"Value\"], \"Santa Fe\": df_santa_fe[\"Value\"], \"Real Madrid\": df_real_madrid[\"Value\"]})\n",
    "df_box.plot.box(title = \"Distribución de los valores de\\nlos jugadores entre grupos\")"
   ]
  },
  {
   "cell_type": "code",
   "execution_count": null,
   "metadata": {},
   "outputs": [],
   "source": [
    "df_box = pd.DataFrame({\"Millonarios\": df_millonarios[\"Overall\"], \"Santa Fe\": df_santa_fe[\"Overall\"], \"Real Madrid\": df_real_madrid[\"Overall\"]})\n",
    "df_box.plot.box(title = \"Distribución del overall de\\nlos jugadores entre grupos\")"
   ]
  },
  {
   "cell_type": "code",
   "execution_count": null,
   "metadata": {},
   "outputs": [],
   "source": []
  }
 ],
 "metadata": {
  "kernelspec": {
   "display_name": "Python 3",
   "language": "python",
   "name": "python3"
  },
  "language_info": {
   "codemirror_mode": {
    "name": "ipython",
    "version": 3
   },
   "file_extension": ".py",
   "mimetype": "text/x-python",
   "name": "python",
   "nbconvert_exporter": "python",
   "pygments_lexer": "ipython3",
   "version": "3.7.6"
  }
 },
 "nbformat": 4,
 "nbformat_minor": 4
}
